{
  "nbformat": 4,
  "nbformat_minor": 0,
  "metadata": {
    "colab": {
      "provenance": [],
      "gpuType": "T4",
      "authorship_tag": "ABX9TyO6/Lwr4A4mk+yh2kCzLfEZ",
      "include_colab_link": true
    },
    "kernelspec": {
      "name": "python3",
      "display_name": "Python 3"
    },
    "language_info": {
      "name": "python"
    },
    "accelerator": "GPU"
  },
  "cells": [
    {
      "cell_type": "markdown",
      "metadata": {
        "id": "view-in-github",
        "colab_type": "text"
      },
      "source": [
        "<a href=\"https://colab.research.google.com/github/Disha-Sikka/FineTune_and_GradCam/blob/main/FineTune_%26_GradCam.ipynb\" target=\"_parent\"><img src=\"https://colab.research.google.com/assets/colab-badge.svg\" alt=\"Open In Colab\"/></a>"
      ]
    },
    {
      "cell_type": "code",
      "source": [
        "!kaggle datasets download -d puneet6060/intel-image-classification\n",
        "!unzip -q intel-image-classification.zip\n"
      ],
      "metadata": {
        "colab": {
          "base_uri": "https://localhost:8080/"
        },
        "id": "AR42MSl6hIwp",
        "outputId": "24414a3c-7f4f-4a07-cf95-6337bb5d9e9d"
      },
      "execution_count": 12,
      "outputs": [
        {
          "output_type": "stream",
          "name": "stdout",
          "text": [
            "Dataset URL: https://www.kaggle.com/datasets/puneet6060/intel-image-classification\n",
            "License(s): copyright-authors\n",
            "Downloading intel-image-classification.zip to /content\n",
            " 96% 334M/346M [00:05<00:00, 42.8MB/s]\n",
            "100% 346M/346M [00:05<00:00, 62.6MB/s]\n"
          ]
        }
      ]
    },
    {
      "cell_type": "code",
      "execution_count": 1,
      "metadata": {
        "id": "ZOLq4mJrfxlq"
      },
      "outputs": [],
      "source": [
        "from torchvision import datasets, transforms\n",
        "from torch.utils.data import DataLoader"
      ]
    },
    {
      "cell_type": "code",
      "source": [
        "transform= transforms.Compose([\n",
        "    transforms.Resize((224,224)),\n",
        "    transforms.ToTensor()\n",
        "])"
      ],
      "metadata": {
        "id": "lsJ4aTTQuF29"
      },
      "execution_count": 2,
      "outputs": []
    },
    {
      "cell_type": "code",
      "source": [
        "train_dataset= datasets.ImageFolder('seg_train/seg_train', transform=transform)\n",
        "test_dataset= datasets.ImageFolder('seg_test/seg_test', transform=transform)\n",
        "\n",
        "train_loader= DataLoader(train_dataset, batch_size=32, shuffle=True)\n",
        "test_loader= DataLoader(test_dataset, batch_size=32)\n"
      ],
      "metadata": {
        "id": "FGU8cDEEucAH"
      },
      "execution_count": 3,
      "outputs": []
    },
    {
      "cell_type": "code",
      "source": [
        "import torch\n",
        "import torch.nn as nn\n",
        "import torchvision.models as models"
      ],
      "metadata": {
        "id": "4o8p4YlSvk3e"
      },
      "execution_count": 4,
      "outputs": []
    },
    {
      "cell_type": "code",
      "source": [
        "device= torch.device('cuda' if torch.cuda.is_available() else 'cpu')\n",
        "model= models.resnet18(pretrained= True)\n",
        "num_ftrs= model.fc.in_features\n",
        "model.fc= nn.Linear(num_ftrs,6)\n",
        "model= model.to(device)"
      ],
      "metadata": {
        "colab": {
          "base_uri": "https://localhost:8080/"
        },
        "id": "66XVoTJhwuuz",
        "outputId": "f52f99ef-ca32-476d-93be-973689d92703"
      },
      "execution_count": 5,
      "outputs": [
        {
          "output_type": "stream",
          "name": "stderr",
          "text": [
            "/usr/local/lib/python3.11/dist-packages/torchvision/models/_utils.py:208: UserWarning: The parameter 'pretrained' is deprecated since 0.13 and may be removed in the future, please use 'weights' instead.\n",
            "  warnings.warn(\n",
            "/usr/local/lib/python3.11/dist-packages/torchvision/models/_utils.py:223: UserWarning: Arguments other than a weight enum or `None` for 'weights' are deprecated since 0.13 and may be removed in the future. The current behavior is equivalent to passing `weights=ResNet18_Weights.IMAGENET1K_V1`. You can also use `weights=ResNet18_Weights.DEFAULT` to get the most up-to-date weights.\n",
            "  warnings.warn(msg)\n"
          ]
        }
      ]
    },
    {
      "cell_type": "code",
      "source": [
        "import torch.optim as optim\n",
        "import os\n",
        "from tqdm import tqdm"
      ],
      "metadata": {
        "id": "osz7tzzpxYlj"
      },
      "execution_count": 12,
      "outputs": []
    },
    {
      "cell_type": "code",
      "source": [
        "criterion= nn.CrossEntropyLoss()\n",
        "optimizer= optim.Adam(model.parameters(), lr=0.001)\n",
        "os.makedirs('checkpoints', exist_ok=True)\n",
        "\n",
        "for epochs in range(10):\n",
        "  model.train()\n",
        "  running_loss=0\n",
        "  correct=0\n",
        "  total=0\n",
        "\n",
        "  for images, labels in tqdm(train_loader, desc=f\"Epoch {epochs+1}/{10}\"):\n",
        "    images, labels= images.to(device), labels.to(device)\n",
        "    outputs= model(images)\n",
        "    loss= criterion(outputs, labels)\n",
        "\n",
        "    optimizer.zero_grad()\n",
        "    loss.backward()\n",
        "    optimizer.step()\n",
        "\n",
        "    running_loss+= loss.item()\n",
        "    _, predicted= outputs.max(1)\n",
        "    total += labels.size(0)\n",
        "    correct+= (predicted==labels).sum().item()\n",
        "\n",
        "  train_loss= running_loss/ len(train_loader)\n",
        "  train_acc= 100* correct/total\n",
        "  print(f\"Epoch [{epochs+1}/10], Accuracy: {train_acc:.2f}, Loss: {train_loss:.4f}\")\n",
        "  checkpoint_path = f\"checkpoints/resnet18_epoch{epochs+1}.pt\"\n",
        "  torch.save({\n",
        "      'epoch': epochs+1,\n",
        "      'model_state_dict': model.state_dict(),\n",
        "      'optimizer_state_dict': optimizer.state_dict(),\n",
        "      'train_loss': train_loss,\n",
        "      'train_acc': train_acc,\n",
        "  }, checkpoint_path)\n",
        "  print(f\"✅ Checkpoint saved: {checkpoint_path}\")\n",
        "\n"
      ],
      "metadata": {
        "colab": {
          "base_uri": "https://localhost:8080/"
        },
        "id": "EUzbR9LExm6g",
        "outputId": "6f4ec00c-9306-47ca-87fb-406b334b2163"
      },
      "execution_count": 15,
      "outputs": [
        {
          "output_type": "stream",
          "name": "stderr",
          "text": [
            "Epoch 1/10: 100%|██████████| 439/439 [01:05<00:00,  6.75it/s]\n"
          ]
        },
        {
          "output_type": "stream",
          "name": "stdout",
          "text": [
            "Epoch [1/10], Accuracy: 92.51, Loss: 0.2125\n",
            "✅ Checkpoint saved: checkpoints/resnet18_epoch1.pt\n"
          ]
        },
        {
          "output_type": "stream",
          "name": "stderr",
          "text": [
            "Epoch 2/10: 100%|██████████| 439/439 [01:05<00:00,  6.74it/s]\n"
          ]
        },
        {
          "output_type": "stream",
          "name": "stdout",
          "text": [
            "Epoch [2/10], Accuracy: 94.31, Loss: 0.1677\n",
            "✅ Checkpoint saved: checkpoints/resnet18_epoch2.pt\n"
          ]
        },
        {
          "output_type": "stream",
          "name": "stderr",
          "text": [
            "Epoch 3/10: 100%|██████████| 439/439 [01:06<00:00,  6.61it/s]\n"
          ]
        },
        {
          "output_type": "stream",
          "name": "stdout",
          "text": [
            "Epoch [3/10], Accuracy: 95.35, Loss: 0.1343\n",
            "✅ Checkpoint saved: checkpoints/resnet18_epoch3.pt\n"
          ]
        },
        {
          "output_type": "stream",
          "name": "stderr",
          "text": [
            "Epoch 4/10: 100%|██████████| 439/439 [01:06<00:00,  6.61it/s]\n"
          ]
        },
        {
          "output_type": "stream",
          "name": "stdout",
          "text": [
            "Epoch [4/10], Accuracy: 96.27, Loss: 0.1118\n",
            "✅ Checkpoint saved: checkpoints/resnet18_epoch4.pt\n"
          ]
        },
        {
          "output_type": "stream",
          "name": "stderr",
          "text": [
            "Epoch 5/10: 100%|██████████| 439/439 [01:06<00:00,  6.60it/s]\n"
          ]
        },
        {
          "output_type": "stream",
          "name": "stdout",
          "text": [
            "Epoch [5/10], Accuracy: 96.81, Loss: 0.0954\n",
            "✅ Checkpoint saved: checkpoints/resnet18_epoch5.pt\n"
          ]
        },
        {
          "output_type": "stream",
          "name": "stderr",
          "text": [
            "Epoch 6/10: 100%|██████████| 439/439 [01:06<00:00,  6.61it/s]\n"
          ]
        },
        {
          "output_type": "stream",
          "name": "stdout",
          "text": [
            "Epoch [6/10], Accuracy: 97.50, Loss: 0.0746\n",
            "✅ Checkpoint saved: checkpoints/resnet18_epoch6.pt\n"
          ]
        },
        {
          "output_type": "stream",
          "name": "stderr",
          "text": [
            "Epoch 7/10: 100%|██████████| 439/439 [01:06<00:00,  6.63it/s]\n"
          ]
        },
        {
          "output_type": "stream",
          "name": "stdout",
          "text": [
            "Epoch [7/10], Accuracy: 97.95, Loss: 0.0644\n",
            "✅ Checkpoint saved: checkpoints/resnet18_epoch7.pt\n"
          ]
        },
        {
          "output_type": "stream",
          "name": "stderr",
          "text": [
            "Epoch 8/10: 100%|██████████| 439/439 [01:06<00:00,  6.64it/s]\n"
          ]
        },
        {
          "output_type": "stream",
          "name": "stdout",
          "text": [
            "Epoch [8/10], Accuracy: 98.25, Loss: 0.0537\n",
            "✅ Checkpoint saved: checkpoints/resnet18_epoch8.pt\n"
          ]
        },
        {
          "output_type": "stream",
          "name": "stderr",
          "text": [
            "Epoch 9/10: 100%|██████████| 439/439 [01:06<00:00,  6.61it/s]\n"
          ]
        },
        {
          "output_type": "stream",
          "name": "stdout",
          "text": [
            "Epoch [9/10], Accuracy: 98.04, Loss: 0.0602\n",
            "✅ Checkpoint saved: checkpoints/resnet18_epoch9.pt\n"
          ]
        },
        {
          "output_type": "stream",
          "name": "stderr",
          "text": [
            "Epoch 10/10: 100%|██████████| 439/439 [01:06<00:00,  6.58it/s]\n"
          ]
        },
        {
          "output_type": "stream",
          "name": "stdout",
          "text": [
            "Epoch [10/10], Accuracy: 98.56, Loss: 0.0448\n",
            "✅ Checkpoint saved: checkpoints/resnet18_epoch10.pt\n"
          ]
        }
      ]
    },
    {
      "cell_type": "code",
      "source": [],
      "metadata": {
        "id": "eipgGl2a6WiT"
      },
      "execution_count": null,
      "outputs": []
    }
  ]
}
